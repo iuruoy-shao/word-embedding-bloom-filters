{
 "cells": [
  {
   "cell_type": "code",
   "execution_count": 1,
   "metadata": {},
   "outputs": [
    {
     "name": "stderr",
     "output_type": "stream",
     "text": [
      "/Users/Yourui/Documents/bloom-filters/.venv/lib/python3.12/site-packages/tqdm/auto.py:21: TqdmWarning: IProgress not found. Please update jupyter and ipywidgets. See https://ipywidgets.readthedocs.io/en/stable/user_install.html\n",
      "  from .autonotebook import tqdm as notebook_tqdm\n"
     ]
    }
   ],
   "source": [
    "import datasets\n",
    "\n",
    "data = datasets.load_dataset('gmongaras/book_BERT_512')"
   ]
  },
  {
   "cell_type": "code",
   "execution_count": 3,
   "metadata": {},
   "outputs": [
    {
     "name": "stdout",
     "output_type": "stream",
     "text": [
      "0th row processed\n",
      "1000th row processed\n",
      "2000th row processed\n",
      "3000th row processed\n",
      "4000th row processed\n",
      "5000th row processed\n",
      "6000th row processed\n",
      "7000th row processed\n",
      "8000th row processed\n",
      "9000th row processed\n",
      "10000th row processed\n",
      "11000th row processed\n",
      "12000th row processed\n",
      "13000th row processed\n",
      "14000th row processed\n",
      "15000th row processed\n",
      "16000th row processed\n",
      "17000th row processed\n",
      "18000th row processed\n",
      "19000th row processed\n"
     ]
    }
   ],
   "source": [
    "import contextlib\n",
    "\n",
    "with open('tokens.txt', 'w') as f:\n",
    "    for i, row in enumerate(data['train']):\n",
    "        tokens = row['input_ids']\n",
    "        with contextlib.suppress(ValueError):\n",
    "            tokens = tokens[:tokens.index(0)]\n",
    "        for sequence in [tokens[i:i+4] for i in range(len(tokens)-3)]:\n",
    "            f.write(str(sequence) + '\\n')\n",
    "        \n",
    "        if i % 1000 == 0:\n",
    "            print(f'{i}th row processed')"
   ]
  }
 ],
 "metadata": {
  "kernelspec": {
   "display_name": ".venv",
   "language": "python",
   "name": "python3"
  },
  "language_info": {
   "codemirror_mode": {
    "name": "ipython",
    "version": 3
   },
   "file_extension": ".py",
   "mimetype": "text/x-python",
   "name": "python",
   "nbconvert_exporter": "python",
   "pygments_lexer": "ipython3",
   "version": "3.12.3"
  }
 },
 "nbformat": 4,
 "nbformat_minor": 2
}
