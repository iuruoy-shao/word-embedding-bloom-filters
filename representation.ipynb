{
 "cells": [
  {
   "cell_type": "code",
   "execution_count": 1,
   "metadata": {},
   "outputs": [],
   "source": [
    "import spacy\n",
    "from nltk.corpus import wordnet\n",
    "nlp = spacy.load('en_core_web_sm', disable=['ner', 'parser'])\n",
    "\n",
    "lemmatize = lambda word: nlp(str(word))[0].lemma_\n",
    "\n",
    "import json\n",
    "with open('data/wikipedia_20000_frequencies.json', 'r') as f:\n",
    "    frequencies = json.load(f)\n",
    "\n",
    "import pandas as pd\n",
    "for k, v in frequencies.items(): # applies new lemmatizer\n",
    "    frequencies[k] = pd.DataFrame({'word':v.keys(), 'frequency':v.values()}) \n",
    "    frequencies[k] = frequencies[k].loc[frequencies[k]['word'].map(lambda x: bool(wordnet.synsets(str(x))))]\n",
    "    frequencies[k]['lemmas'] = frequencies[k]['word'].map(lemmatize)\n",
    "    frequencies[k] = frequencies[k].groupby(frequencies[k]['lemmas']).aggregate({'frequency': 'sum'})\n",
    "    frequencies[k] = frequencies[k][pd.notnull(frequencies[k].index)].to_dict()['frequency']\n",
    "\n",
    "with open('data/wikipedia_20000_frequencies.json', 'w') as f:\n",
    "    json.dump(frequencies, f, indent=4)"
   ]
  },
  {
   "cell_type": "code",
   "execution_count": 2,
   "metadata": {},
   "outputs": [],
   "source": [
    "en_wiki_frequencies = pd.read_csv('data/enwiki-2023-04-13.txt', header=None, sep=\" \", index_col=0)"
   ]
  },
  {
   "cell_type": "code",
   "execution_count": 3,
   "metadata": {},
   "outputs": [],
   "source": [
    "valid_entries = en_wiki_frequencies.index.map(lambda x: bool(wordnet.synsets(str(x))))\n",
    "en_wiki_frequencies = en_wiki_frequencies.loc[valid_entries]"
   ]
  },
  {
   "cell_type": "code",
   "execution_count": 4,
   "metadata": {},
   "outputs": [],
   "source": [
    "en_wiki_frequencies['lemmas'] = en_wiki_frequencies.index.map(lemmatize)\n",
    "en_wiki_frequencies = en_wiki_frequencies.groupby(en_wiki_frequencies['lemmas']).aggregate({1: 'sum'})\n",
    "\n",
    "en_wiki_frequencies = en_wiki_frequencies[pd.notnull(en_wiki_frequencies.index)].to_dict()"
   ]
  },
  {
   "cell_type": "code",
   "execution_count": 5,
   "metadata": {},
   "outputs": [],
   "source": [
    "en_wiki_frequencies = en_wiki_frequencies[1]"
   ]
  },
  {
   "cell_type": "code",
   "execution_count": 6,
   "metadata": {},
   "outputs": [],
   "source": [
    "with open('data/lemma_safe_enwiki_frequencies.json', 'w') as f:\n",
    "    json.dump(en_wiki_frequencies, f)"
   ]
  },
  {
   "cell_type": "code",
   "execution_count": 7,
   "metadata": {},
   "outputs": [],
   "source": [
    "tf_idfs = {}"
   ]
  },
  {
   "cell_type": "code",
   "execution_count": 8,
   "metadata": {},
   "outputs": [],
   "source": [
    "for word in frequencies.keys():\n",
    "    tf_idfs[word] = {}\n",
    "    for adjacent_word in frequencies[word].keys():\n",
    "        if frequencies[word][adjacent_word] < 5 or adjacent_word not in en_wiki_frequencies:\n",
    "            continue\n",
    "        tf_idfs[word][adjacent_word] = frequencies[word][adjacent_word] * 1.0 / en_wiki_frequencies[adjacent_word]"
   ]
  },
  {
   "cell_type": "code",
   "execution_count": 9,
   "metadata": {},
   "outputs": [],
   "source": [
    "import mmh3\n",
    "\n",
    "def hash_digests(token, bits):\n",
    "    return [mmh3.hash(token, i) % bits for i in range(3)]"
   ]
  },
  {
   "cell_type": "code",
   "execution_count": 10,
   "metadata": {},
   "outputs": [],
   "source": [
    "for key in tf_idfs.keys():\n",
    "    tf_idfs[key] = dict(sorted(tf_idfs[key].items(), key=lambda item: item[1], reverse=True))\n",
    "for key in tf_idfs.keys():\n",
    "    for word in tf_idfs[key].keys():\n",
    "        tf_idfs[key][word] = {\n",
    "            'tf-idf': tf_idfs[key][word],\n",
    "            'bloom_filter': list(hash_digests(word, 32))\n",
    "        }"
   ]
  },
  {
   "cell_type": "code",
   "execution_count": 11,
   "metadata": {},
   "outputs": [],
   "source": [
    "# removes newlines in lists for readability\n",
    "import re\n",
    "def repl_func(match: re.Match):\n",
    "    return \" \".join(match.group().split())\n",
    "\n",
    "json_str = json.dumps(tf_idfs, indent=4)\n",
    "json_str = re.sub(r\"(?<=\\[)[^\\[\\]]+(?=])\", repl_func, json_str)\n",
    "\n",
    "with open('data/wikipedia_20000_tf-idf.json', 'w') as f:\n",
    "    f.write(json_str)"
   ]
  }
 ],
 "metadata": {
  "kernelspec": {
   "display_name": ".venv",
   "language": "python",
   "name": "python3"
  },
  "language_info": {
   "codemirror_mode": {
    "name": "ipython",
    "version": 3
   },
   "file_extension": ".py",
   "mimetype": "text/x-python",
   "name": "python",
   "nbconvert_exporter": "python",
   "pygments_lexer": "ipython3",
   "version": "3.12.5"
  }
 },
 "nbformat": 4,
 "nbformat_minor": 2
}
