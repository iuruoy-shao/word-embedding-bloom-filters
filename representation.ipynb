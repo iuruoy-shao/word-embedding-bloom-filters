{
 "cells": [
  {
   "cell_type": "code",
   "execution_count": 1,
   "metadata": {},
   "outputs": [],
   "source": [
    "# TODO:add bit arrays / hash values to json file"
   ]
  },
  {
   "cell_type": "code",
   "execution_count": 23,
   "metadata": {},
   "outputs": [],
   "source": [
    "import json\n",
    "with open('data/wikipedia_20000_frequencies.json', 'r') as f:\n",
    "    frequencies = json.load(f)"
   ]
  },
  {
   "cell_type": "code",
   "execution_count": 3,
   "metadata": {},
   "outputs": [],
   "source": [
    "from nltk.stem import WordNetLemmatizer\n",
    "from nltk.corpus import wordnet\n",
    "\n",
    "lemmatizer = WordNetLemmatizer()"
   ]
  },
  {
   "cell_type": "code",
   "execution_count": 5,
   "metadata": {},
   "outputs": [],
   "source": [
    "import pandas as pd\n",
    "en_wiki_frequencies = pd.read_csv('data/enwiki-2023-04-13.txt', header=None, sep=\" \", index_col=0)"
   ]
  },
  {
   "cell_type": "code",
   "execution_count": 6,
   "metadata": {},
   "outputs": [],
   "source": [
    "valid_entries = en_wiki_frequencies.index.map(lambda x: bool(wordnet.synsets(str(x))))\n",
    "en_wiki_frequencies = en_wiki_frequencies.loc[valid_entries]\n",
    "en_wiki_frequencies = en_wiki_frequencies[pd.notnull(en_wiki_frequencies.index)].to_dict()"
   ]
  },
  {
   "cell_type": "code",
   "execution_count": 7,
   "metadata": {},
   "outputs": [],
   "source": [
    "en_wiki_frequencies = en_wiki_frequencies[1]"
   ]
  },
  {
   "cell_type": "code",
   "execution_count": 8,
   "metadata": {},
   "outputs": [],
   "source": [
    "with open('data/lemma_safe_enwiki_frequencies.json', 'r') as f:\n",
    "    combined_frequencies = json.load(f)"
   ]
  },
  {
   "cell_type": "code",
   "execution_count": 24,
   "metadata": {},
   "outputs": [],
   "source": [
    "for word in frequencies.keys():\n",
    "    for adjacent_word in frequencies[word].keys():\n",
    "        if frequencies[word][adjacent_word] < 5:\n",
    "            frequencies[word][adjacent_word] = 0\n",
    "            continue\n",
    "\n",
    "        total_frequency = 0\n",
    "        if adjacent_word not in combined_frequencies.keys():\n",
    "            for entry in en_wiki_frequencies.keys():\n",
    "                if lemmatizer.lemmatize(str(entry)) == adjacent_word:\n",
    "                    total_frequency += int(en_wiki_frequencies[entry])\n",
    "            print('total', adjacent_word, total_frequency)\n",
    "            combined_frequencies[adjacent_word] = total_frequency\n",
    "        else:\n",
    "            total_frequency = combined_frequencies[adjacent_word]\n",
    "        \n",
    "        if total_frequency:\n",
    "            frequencies[word][adjacent_word] /= float(total_frequency)\n",
    "        else:\n",
    "            frequencies[word][adjacent_word] = 0.0"
   ]
  },
  {
   "cell_type": "code",
   "execution_count": 25,
   "metadata": {},
   "outputs": [],
   "source": [
    "import mmh3\n",
    "\n",
    "def hash_digests(token, bits):\n",
    "    return [mmh3.hash(token, i) % bits for i in range(3)]"
   ]
  },
  {
   "cell_type": "code",
   "execution_count": 26,
   "metadata": {},
   "outputs": [],
   "source": [
    "for key in frequencies.keys():\n",
    "    frequencies[key] = dict(sorted(frequencies[key].items(), key=lambda item: item[1], reverse=True))\n",
    "for key in frequencies.keys():\n",
    "    for word in frequencies[key].keys():\n",
    "        frequencies[key][word] = {\n",
    "            'tf-idf': frequencies[key][word],\n",
    "            'bloom_filter': list(hash_digests(word, 32))\n",
    "        }"
   ]
  },
  {
   "cell_type": "code",
   "execution_count": 27,
   "metadata": {},
   "outputs": [],
   "source": [
    "# removes newlines in lists for readability\n",
    "import re\n",
    "def repl_func(match: re.Match):\n",
    "    return \" \".join(match.group().split())\n",
    "\n",
    "json_str = json.dumps(frequencies, indent=4)\n",
    "json_str = re.sub(r\"(?<=\\[)[^\\[\\]]+(?=])\", repl_func, json_str)\n",
    "\n",
    "with open('data/wikipedia_20000_tf-idf.json', 'w') as f:\n",
    "    f.write(json_str)"
   ]
  }
 ],
 "metadata": {
  "kernelspec": {
   "display_name": ".venv",
   "language": "python",
   "name": "python3"
  },
  "language_info": {
   "codemirror_mode": {
    "name": "ipython",
    "version": 3
   },
   "file_extension": ".py",
   "mimetype": "text/x-python",
   "name": "python",
   "nbconvert_exporter": "python",
   "pygments_lexer": "ipython3",
   "version": "3.12.5"
  }
 },
 "nbformat": 4,
 "nbformat_minor": 2
}
