{
 "cells": [
  {
   "cell_type": "code",
   "execution_count": 1,
   "metadata": {},
   "outputs": [
    {
     "name": "stderr",
     "output_type": "stream",
     "text": [
      "[nltk_data] Downloading package stopwords to\n",
      "[nltk_data]     /Users/Yourui/nltk_data...\n",
      "[nltk_data]   Package stopwords is already up-to-date!\n",
      "[nltk_data] Downloading package wordnet to /Users/Yourui/nltk_data...\n",
      "[nltk_data]   Package wordnet is already up-to-date!\n"
     ]
    }
   ],
   "source": [
    "import contextlib\n",
    "from nltk.tokenize import sent_tokenize\n",
    "from nltk.corpus import stopwords, wordnet\n",
    "import mmh3\n",
    "import numpy as np\n",
    "import contextlib\n",
    "import numpy as np\n",
    "import string\n",
    "import nltk\n",
    "import json\n",
    "\n",
    "import spacy\n",
    "import lemminflect\n",
    "nlp = spacy.load('en_core_web_sm', disable=['ner', 'parser'])\n",
    "POS = (\"CC\", \"CD\", \"DT\", \"EX\", \"FW\", \"IN\", \"JJ\", \"JJR\", \"JJS\", \"LS\", \"MD\", \"NN\", \"NNP\", \"NNPS\", \"NNS\", \"PDT\", \"PRP\", \"PRP$\", \"RB\", \"RBR\", \"RBS\", \"RP\", \"VB\", \"VBD\", \"VBG\", \"VBN\", \"VBP\", \"VBZ\", \"WDT\", \"WP\", \"WP$\", \"WRB\")\n",
    "\n",
    "def lemmatize(word):\n",
    "    token = nlp(str(word))[0]\n",
    "    lemma = token.lemma_\n",
    "    inflections = {token._.inflect(pos) for pos in POS}\n",
    "    return lemma, inflections\n",
    "\n",
    "def tokenize(sentence):\n",
    "    tokenized = nlp(sentence.translate(str.maketrans('', '', string.punctuation)))\n",
    "    return [token.lemma_ for token in tokenized if token.lemma_ not in en_stopwords and wordnet.synsets(token.lemma_)]\n",
    "\n",
    "nltk.download('stopwords')\n",
    "nltk.download('wordnet')\n",
    "en_stopwords = set(stopwords.words('english'))\n",
    "\n",
    "# data = datasets.load_dataset(\"wikipedia\", \"20220301.en\")\n",
    "# data = datasets.load_dataset(\"bookcorpus/bookcorpus\")\n",
    "# data = data['train']\n",
    "data = []\n",
    "for i in range (1, 1731):\n",
    "    with contextlib.suppress(FileNotFoundError):\n",
    "        with open(f'data/fairy_tales/{i}.txt', 'rb') as f:\n",
    "            data.append(f.read())"
   ]
  },
  {
   "cell_type": "code",
   "execution_count": 2,
   "metadata": {},
   "outputs": [],
   "source": [
    "neighbor_frequencies = {}\n",
    "total_frequencies = {}\n",
    "deltas = [-4, -3, -2, -1, 1, 2, 3, 4]"
   ]
  },
  {
   "cell_type": "code",
   "execution_count": 3,
   "metadata": {},
   "outputs": [],
   "source": [
    "def update_total_frequencies(word):\n",
    "    try:\n",
    "        total_frequencies[word] += 1\n",
    "    except KeyError:\n",
    "        total_frequencies[word] = 1"
   ]
  },
  {
   "cell_type": "code",
   "execution_count": 4,
   "metadata": {},
   "outputs": [],
   "source": [
    "def update_total_frequencies(word):\n",
    "    try:\n",
    "        total_frequencies[word] += 1\n",
    "    except KeyError:\n",
    "        total_frequencies[word] = 1\n",
    "\n",
    "def update_neighbor_frequencies(i, tokenized):\n",
    "    if tokenized[i] not in neighbor_frequencies.keys():\n",
    "        neighbor_frequencies[tokenized[i]] = {}\n",
    "    for delta in deltas:\n",
    "        with contextlib.suppress(IndexError):\n",
    "            try:\n",
    "                neighbor_frequencies[tokenized[i]][tokenized[i+delta]] += 1\n",
    "            except KeyError:\n",
    "                neighbor_frequencies[tokenized[i]][tokenized[i+delta]] = 1"
   ]
  },
  {
   "cell_type": "code",
   "execution_count": 5,
   "metadata": {},
   "outputs": [
    {
     "name": "stdout",
     "output_type": "stream",
     "text": [
      "10th row processed\n",
      "10th row processed\n"
     ]
    },
    {
     "ename": "KeyboardInterrupt",
     "evalue": "",
     "output_type": "error",
     "traceback": [
      "\u001b[0;31m---------------------------------------------------------------------------\u001b[0m",
      "\u001b[0;31mKeyboardInterrupt\u001b[0m                         Traceback (most recent call last)",
      "Cell \u001b[0;32mIn[5], line 11\u001b[0m\n\u001b[1;32m      9\u001b[0m     \u001b[38;5;28;01mfor\u001b[39;00m i \u001b[38;5;129;01min\u001b[39;00m \u001b[38;5;28mrange\u001b[39m(\u001b[38;5;28mlen\u001b[39m(tokenized)):\n\u001b[1;32m     10\u001b[0m         update_total_frequencies(tokenized[i])\n\u001b[0;32m---> 11\u001b[0m         \u001b[43mupdate_neighbor_frequencies\u001b[49m\u001b[43m(\u001b[49m\u001b[43mi\u001b[49m\u001b[43m,\u001b[49m\u001b[43m \u001b[49m\u001b[43mtokenized\u001b[49m\u001b[43m)\u001b[49m\n\u001b[1;32m     13\u001b[0m \u001b[38;5;28;01mif\u001b[39;00m i \u001b[38;5;241m%\u001b[39m \u001b[38;5;241m10\u001b[39m \u001b[38;5;241m==\u001b[39m \u001b[38;5;241m0\u001b[39m:\n\u001b[1;32m     14\u001b[0m     \u001b[38;5;28mprint\u001b[39m(\u001b[38;5;124mf\u001b[39m\u001b[38;5;124m\"\u001b[39m\u001b[38;5;132;01m{\u001b[39;00mi\u001b[38;5;132;01m}\u001b[39;00m\u001b[38;5;124mth row processed\u001b[39m\u001b[38;5;124m\"\u001b[39m)\n",
      "Cell \u001b[0;32mIn[4], line 11\u001b[0m, in \u001b[0;36mupdate_neighbor_frequencies\u001b[0;34m(i, tokenized)\u001b[0m\n\u001b[1;32m      9\u001b[0m     neighbor_frequencies[tokenized[i]] \u001b[38;5;241m=\u001b[39m {}\n\u001b[1;32m     10\u001b[0m \u001b[38;5;28;01mfor\u001b[39;00m delta \u001b[38;5;129;01min\u001b[39;00m deltas:\n\u001b[0;32m---> 11\u001b[0m     \u001b[38;5;28;01mwith\u001b[39;00m \u001b[43mcontextlib\u001b[49m\u001b[38;5;241;43m.\u001b[39;49m\u001b[43msuppress\u001b[49m\u001b[43m(\u001b[49m\u001b[38;5;167;43;01mIndexError\u001b[39;49;00m\u001b[43m)\u001b[49m:\n\u001b[1;32m     12\u001b[0m         \u001b[38;5;28;01mtry\u001b[39;00m:\n\u001b[1;32m     13\u001b[0m             neighbor_frequencies[tokenized[i]][tokenized[i\u001b[38;5;241m+\u001b[39mdelta]] \u001b[38;5;241m+\u001b[39m\u001b[38;5;241m=\u001b[39m \u001b[38;5;241m1\u001b[39m\n",
      "\u001b[0;31mKeyboardInterrupt\u001b[0m: "
     ]
    }
   ],
   "source": [
    "for i, row in enumerate(data):\n",
    "    try:\n",
    "        sentences = sent_tokenize(row.decode('cp1252').lower())\n",
    "    except UnicodeDecodeError:\n",
    "        sentences = sent_tokenize(row.decode('utf8').lower())\n",
    "    \n",
    "    for sentence in sentences:\n",
    "        tokenized = tokenize(sentence)\n",
    "        for i in range(len(tokenized)):\n",
    "            update_total_frequencies(tokenized[i])\n",
    "            update_neighbor_frequencies(i, tokenized)\n",
    "\n",
    "    if i % 10 == 0:\n",
    "        print(f\"{i}th row processed\")"
   ]
  }
 ],
 "metadata": {
  "kernelspec": {
   "display_name": ".venv",
   "language": "python",
   "name": "python3"
  },
  "language_info": {
   "codemirror_mode": {
    "name": "ipython",
    "version": 3
   },
   "file_extension": ".py",
   "mimetype": "text/x-python",
   "name": "python",
   "nbconvert_exporter": "python",
   "pygments_lexer": "ipython3",
   "version": "3.12.5"
  }
 },
 "nbformat": 4,
 "nbformat_minor": 2
}
